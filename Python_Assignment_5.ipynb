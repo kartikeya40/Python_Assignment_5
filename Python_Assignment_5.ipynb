{
 "cells": [
  {
   "cell_type": "markdown",
   "id": "ceb83665",
   "metadata": {},
   "source": [
    "1.What does an empty dictionary's code look like?"
   ]
  },
  {
   "cell_type": "code",
   "execution_count": null,
   "id": "e45b2efb",
   "metadata": {},
   "outputs": [],
   "source": [
    "{}"
   ]
  },
  {
   "cell_type": "markdown",
   "id": "ac689a09",
   "metadata": {},
   "source": [
    "2.What is the value of a dictionary value with the key 'foo' and the value 42?"
   ]
  },
  {
   "cell_type": "markdown",
   "id": "50112d02",
   "metadata": {},
   "source": [
    "{'foo':42}"
   ]
  },
  {
   "cell_type": "markdown",
   "id": "dc80af43",
   "metadata": {},
   "source": [
    "3.What is the most significant distinction between a dictionary and a list?"
   ]
  },
  {
   "cell_type": "markdown",
   "id": "5eeef5fb",
   "metadata": {},
   "source": [
    "Each element of a dictionary have a key and a value, whereas each element of a list has a reference value like 0,1,2,3 etc"
   ]
  },
  {
   "cell_type": "markdown",
   "id": "86f3fa46",
   "metadata": {},
   "source": [
    "4.What happens if you try to access spam['foo'] if spam is {'foo': 100}?"
   ]
  },
  {
   "cell_type": "markdown",
   "id": "eb41959f",
   "metadata": {},
   "source": [
    "It gives a KeyError erro"
   ]
  },
  {
   "cell_type": "markdown",
   "id": "d423780f",
   "metadata": {},
   "source": [
    "5.If a dictionary is stored in spam, what is the difference between the expressions 'cat' in spam and\n",
    "'cat' in spam.keys()?"
   ]
  },
  {
   "cell_type": "markdown",
   "id": "4f36d9af",
   "metadata": {},
   "source": [
    "There is no difference, both the cases search for 'cat' in the keys of the dictionary"
   ]
  },
  {
   "cell_type": "markdown",
   "id": "82385c85",
   "metadata": {},
   "source": [
    "6.If a dictionary is stored in spam, what is the difference between the expressions 'cat' in spam and\n",
    "'cat' in spam.keys()?"
   ]
  },
  {
   "cell_type": "markdown",
   "id": "7ae6f445",
   "metadata": {},
   "source": [
    "There is no difference, both the cases search for 'cat' in the keys of the dictionary"
   ]
  },
  {
   "cell_type": "markdown",
   "id": "4e4d0142",
   "metadata": {},
   "source": [
    "7.What is a shortcut for the following code?\n",
    "if 'color' not in spam:\n",
    "    spam['color'] = 'black'"
   ]
  },
  {
   "cell_type": "markdown",
   "id": "9fdd722c",
   "metadata": {},
   "source": [
    "spam.setdefault('color':'black')"
   ]
  },
  {
   "cell_type": "markdown",
   "id": "afb006f5",
   "metadata": {},
   "source": [
    "8.How do you \"pretty print\" dictionary values using which module and function?"
   ]
  },
  {
   "cell_type": "code",
   "execution_count": null,
   "id": "09729c11",
   "metadata": {},
   "outputs": [],
   "source": []
  }
 ],
 "metadata": {
  "kernelspec": {
   "display_name": "Python 3 (ipykernel)",
   "language": "python",
   "name": "python3"
  },
  "language_info": {
   "codemirror_mode": {
    "name": "ipython",
    "version": 3
   },
   "file_extension": ".py",
   "mimetype": "text/x-python",
   "name": "python",
   "nbconvert_exporter": "python",
   "pygments_lexer": "ipython3",
   "version": "3.9.7"
  }
 },
 "nbformat": 4,
 "nbformat_minor": 5
}
